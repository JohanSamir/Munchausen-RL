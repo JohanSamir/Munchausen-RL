{
  "nbformat": 4,
  "nbformat_minor": 0,
  "metadata": {
    "accelerator": "GPU",
    "colab": {
      "name": "Munchausen-reinforcement-learning(M-DQN Dopamine).ipynb",
      "provenance": [],
      "collapsed_sections": []
    },
    "kernelspec": {
      "display_name": "Python 3",
      "name": "python3"
    }
  },
  "cells": [
    {
      "cell_type": "code",
      "metadata": {
        "colab": {
          "base_uri": "https://localhost:8080/"
        },
        "id": "z2lgEapiFq0t",
        "outputId": "3c7b020e-1899-46c9-8590-0580f7974754"
      },
      "source": [
        "#You should delete the save files to run a new simulation. If this is not done this script will load the previous checkpoints and logs.\n",
        "\n",
        "#!pip install tensorflow --upgrade\n",
        "\n",
        "\n",
        "#!git clone https://github.com/kenjyoung/MinAtar.git\n",
        "#%cd MinAtar\n",
        "#!pip install .\n",
        "\n",
        "#!apt install swig\n",
        "#!pip install box2d box2d-kengz\n",
        "\n",
        "!pip install -U dopamine-rl"
      ],
      "execution_count": 1,
      "outputs": [
        {
          "output_type": "stream",
          "text": [
            "Requirement already up-to-date: dopamine-rl in /usr/local/lib/python3.6/dist-packages (3.1.8)\n",
            "Requirement already satisfied, skipping upgrade: absl-py>=0.9.0 in /usr/local/lib/python3.6/dist-packages (from dopamine-rl) (0.10.0)\n",
            "Requirement already satisfied, skipping upgrade: jaxlib>=0.1.51 in /usr/local/lib/python3.6/dist-packages (from dopamine-rl) (0.1.57+cuda101)\n",
            "Requirement already satisfied, skipping upgrade: tensorflow>=2.2.0 in /usr/local/lib/python3.6/dist-packages (from dopamine-rl) (2.4.0)\n",
            "Requirement already satisfied, skipping upgrade: pygame>=1.9.2 in /usr/local/lib/python3.6/dist-packages (from dopamine-rl) (2.0.1)\n",
            "Requirement already satisfied, skipping upgrade: gin-config>=0.3.0 in /usr/local/lib/python3.6/dist-packages (from dopamine-rl) (0.4.0)\n",
            "Requirement already satisfied, skipping upgrade: flax>=0.2.0 in /usr/local/lib/python3.6/dist-packages (from dopamine-rl) (0.3.0)\n",
            "Requirement already satisfied, skipping upgrade: tf-slim>=1.0 in /usr/local/lib/python3.6/dist-packages (from dopamine-rl) (1.1.0)\n",
            "Requirement already satisfied, skipping upgrade: jax>=0.1.72 in /usr/local/lib/python3.6/dist-packages (from dopamine-rl) (0.2.7)\n",
            "Requirement already satisfied, skipping upgrade: opencv-python>=3.4.8.29 in /usr/local/lib/python3.6/dist-packages (from dopamine-rl) (4.1.2.30)\n",
            "Requirement already satisfied, skipping upgrade: Pillow>=7.0.0 in /usr/local/lib/python3.6/dist-packages (from dopamine-rl) (7.0.0)\n",
            "Requirement already satisfied, skipping upgrade: numpy>=1.16.4 in /usr/local/lib/python3.6/dist-packages (from dopamine-rl) (1.19.4)\n",
            "Requirement already satisfied, skipping upgrade: pandas>=0.24.2 in /usr/local/lib/python3.6/dist-packages (from dopamine-rl) (1.1.5)\n",
            "Requirement already satisfied, skipping upgrade: gym[atari]>=0.13.1 in /usr/local/lib/python3.6/dist-packages (from dopamine-rl) (0.17.3)\n",
            "Requirement already satisfied, skipping upgrade: six in /usr/local/lib/python3.6/dist-packages (from absl-py>=0.9.0->dopamine-rl) (1.15.0)\n",
            "Requirement already satisfied, skipping upgrade: scipy in /usr/local/lib/python3.6/dist-packages (from jaxlib>=0.1.51->dopamine-rl) (1.4.1)\n",
            "Requirement already satisfied, skipping upgrade: flatbuffers in /usr/local/lib/python3.6/dist-packages (from jaxlib>=0.1.51->dopamine-rl) (1.12)\n",
            "Requirement already satisfied, skipping upgrade: tensorflow-estimator<2.5.0,>=2.4.0rc0 in /usr/local/lib/python3.6/dist-packages (from tensorflow>=2.2.0->dopamine-rl) (2.4.0)\n",
            "Requirement already satisfied, skipping upgrade: keras-preprocessing~=1.1.2 in /usr/local/lib/python3.6/dist-packages (from tensorflow>=2.2.0->dopamine-rl) (1.1.2)\n",
            "Requirement already satisfied, skipping upgrade: typing-extensions~=3.7.4 in /usr/local/lib/python3.6/dist-packages (from tensorflow>=2.2.0->dopamine-rl) (3.7.4.3)\n",
            "Requirement already satisfied, skipping upgrade: wheel~=0.35 in /usr/local/lib/python3.6/dist-packages (from tensorflow>=2.2.0->dopamine-rl) (0.36.2)\n",
            "Requirement already satisfied, skipping upgrade: wrapt~=1.12.1 in /usr/local/lib/python3.6/dist-packages (from tensorflow>=2.2.0->dopamine-rl) (1.12.1)\n",
            "Requirement already satisfied, skipping upgrade: grpcio~=1.32.0 in /usr/local/lib/python3.6/dist-packages (from tensorflow>=2.2.0->dopamine-rl) (1.32.0)\n",
            "Requirement already satisfied, skipping upgrade: h5py~=2.10.0 in /usr/local/lib/python3.6/dist-packages (from tensorflow>=2.2.0->dopamine-rl) (2.10.0)\n",
            "Requirement already satisfied, skipping upgrade: google-pasta~=0.2 in /usr/local/lib/python3.6/dist-packages (from tensorflow>=2.2.0->dopamine-rl) (0.2.0)\n",
            "Requirement already satisfied, skipping upgrade: astunparse~=1.6.3 in /usr/local/lib/python3.6/dist-packages (from tensorflow>=2.2.0->dopamine-rl) (1.6.3)\n",
            "Requirement already satisfied, skipping upgrade: protobuf>=3.9.2 in /usr/local/lib/python3.6/dist-packages (from tensorflow>=2.2.0->dopamine-rl) (3.12.4)\n",
            "Requirement already satisfied, skipping upgrade: gast==0.3.3 in /usr/local/lib/python3.6/dist-packages (from tensorflow>=2.2.0->dopamine-rl) (0.3.3)\n",
            "Requirement already satisfied, skipping upgrade: tensorboard~=2.4 in /usr/local/lib/python3.6/dist-packages (from tensorflow>=2.2.0->dopamine-rl) (2.4.0)\n",
            "Requirement already satisfied, skipping upgrade: termcolor~=1.1.0 in /usr/local/lib/python3.6/dist-packages (from tensorflow>=2.2.0->dopamine-rl) (1.1.0)\n",
            "Requirement already satisfied, skipping upgrade: opt-einsum~=3.3.0 in /usr/local/lib/python3.6/dist-packages (from tensorflow>=2.2.0->dopamine-rl) (3.3.0)\n",
            "Requirement already satisfied, skipping upgrade: msgpack in /usr/local/lib/python3.6/dist-packages (from flax>=0.2.0->dopamine-rl) (1.0.1)\n",
            "Requirement already satisfied, skipping upgrade: matplotlib in /usr/local/lib/python3.6/dist-packages (from flax>=0.2.0->dopamine-rl) (3.2.2)\n",
            "Requirement already satisfied, skipping upgrade: dataclasses; python_version < \"3.7\" in /usr/local/lib/python3.6/dist-packages (from flax>=0.2.0->dopamine-rl) (0.8)\n",
            "Requirement already satisfied, skipping upgrade: pytz>=2017.2 in /usr/local/lib/python3.6/dist-packages (from pandas>=0.24.2->dopamine-rl) (2018.9)\n",
            "Requirement already satisfied, skipping upgrade: python-dateutil>=2.7.3 in /usr/local/lib/python3.6/dist-packages (from pandas>=0.24.2->dopamine-rl) (2.8.1)\n",
            "Requirement already satisfied, skipping upgrade: cloudpickle<1.7.0,>=1.2.0 in /usr/local/lib/python3.6/dist-packages (from gym[atari]>=0.13.1->dopamine-rl) (1.3.0)\n",
            "Requirement already satisfied, skipping upgrade: pyglet<=1.5.0,>=1.4.0 in /usr/local/lib/python3.6/dist-packages (from gym[atari]>=0.13.1->dopamine-rl) (1.5.0)\n",
            "Requirement already satisfied, skipping upgrade: atari-py~=0.2.0; extra == \"atari\" in /usr/local/lib/python3.6/dist-packages (from gym[atari]>=0.13.1->dopamine-rl) (0.2.6)\n",
            "Requirement already satisfied, skipping upgrade: setuptools in /usr/local/lib/python3.6/dist-packages (from protobuf>=3.9.2->tensorflow>=2.2.0->dopamine-rl) (51.1.1)\n",
            "Requirement already satisfied, skipping upgrade: markdown>=2.6.8 in /usr/local/lib/python3.6/dist-packages (from tensorboard~=2.4->tensorflow>=2.2.0->dopamine-rl) (3.3.3)\n",
            "Requirement already satisfied, skipping upgrade: google-auth-oauthlib<0.5,>=0.4.1 in /usr/local/lib/python3.6/dist-packages (from tensorboard~=2.4->tensorflow>=2.2.0->dopamine-rl) (0.4.2)\n",
            "Requirement already satisfied, skipping upgrade: tensorboard-plugin-wit>=1.6.0 in /usr/local/lib/python3.6/dist-packages (from tensorboard~=2.4->tensorflow>=2.2.0->dopamine-rl) (1.7.0)\n",
            "Requirement already satisfied, skipping upgrade: requests<3,>=2.21.0 in /usr/local/lib/python3.6/dist-packages (from tensorboard~=2.4->tensorflow>=2.2.0->dopamine-rl) (2.23.0)\n",
            "Requirement already satisfied, skipping upgrade: werkzeug>=0.11.15 in /usr/local/lib/python3.6/dist-packages (from tensorboard~=2.4->tensorflow>=2.2.0->dopamine-rl) (1.0.1)\n",
            "Requirement already satisfied, skipping upgrade: google-auth<2,>=1.6.3 in /usr/local/lib/python3.6/dist-packages (from tensorboard~=2.4->tensorflow>=2.2.0->dopamine-rl) (1.17.2)\n",
            "Requirement already satisfied, skipping upgrade: kiwisolver>=1.0.1 in /usr/local/lib/python3.6/dist-packages (from matplotlib->flax>=0.2.0->dopamine-rl) (1.3.1)\n",
            "Requirement already satisfied, skipping upgrade: pyparsing!=2.0.4,!=2.1.2,!=2.1.6,>=2.0.1 in /usr/local/lib/python3.6/dist-packages (from matplotlib->flax>=0.2.0->dopamine-rl) (2.4.7)\n",
            "Requirement already satisfied, skipping upgrade: cycler>=0.10 in /usr/local/lib/python3.6/dist-packages (from matplotlib->flax>=0.2.0->dopamine-rl) (0.10.0)\n",
            "Requirement already satisfied, skipping upgrade: future in /usr/local/lib/python3.6/dist-packages (from pyglet<=1.5.0,>=1.4.0->gym[atari]>=0.13.1->dopamine-rl) (0.16.0)\n",
            "Requirement already satisfied, skipping upgrade: importlib-metadata; python_version < \"3.8\" in /usr/local/lib/python3.6/dist-packages (from markdown>=2.6.8->tensorboard~=2.4->tensorflow>=2.2.0->dopamine-rl) (3.3.0)\n",
            "Requirement already satisfied, skipping upgrade: requests-oauthlib>=0.7.0 in /usr/local/lib/python3.6/dist-packages (from google-auth-oauthlib<0.5,>=0.4.1->tensorboard~=2.4->tensorflow>=2.2.0->dopamine-rl) (1.3.0)\n",
            "Requirement already satisfied, skipping upgrade: idna<3,>=2.5 in /usr/local/lib/python3.6/dist-packages (from requests<3,>=2.21.0->tensorboard~=2.4->tensorflow>=2.2.0->dopamine-rl) (2.10)\n",
            "Requirement already satisfied, skipping upgrade: certifi>=2017.4.17 in /usr/local/lib/python3.6/dist-packages (from requests<3,>=2.21.0->tensorboard~=2.4->tensorflow>=2.2.0->dopamine-rl) (2020.12.5)\n",
            "Requirement already satisfied, skipping upgrade: urllib3!=1.25.0,!=1.25.1,<1.26,>=1.21.1 in /usr/local/lib/python3.6/dist-packages (from requests<3,>=2.21.0->tensorboard~=2.4->tensorflow>=2.2.0->dopamine-rl) (1.24.3)\n",
            "Requirement already satisfied, skipping upgrade: chardet<4,>=3.0.2 in /usr/local/lib/python3.6/dist-packages (from requests<3,>=2.21.0->tensorboard~=2.4->tensorflow>=2.2.0->dopamine-rl) (3.0.4)\n",
            "Requirement already satisfied, skipping upgrade: cachetools<5.0,>=2.0.0 in /usr/local/lib/python3.6/dist-packages (from google-auth<2,>=1.6.3->tensorboard~=2.4->tensorflow>=2.2.0->dopamine-rl) (4.2.0)\n",
            "Requirement already satisfied, skipping upgrade: rsa<5,>=3.1.4; python_version >= \"3\" in /usr/local/lib/python3.6/dist-packages (from google-auth<2,>=1.6.3->tensorboard~=2.4->tensorflow>=2.2.0->dopamine-rl) (4.6)\n",
            "Requirement already satisfied, skipping upgrade: pyasn1-modules>=0.2.1 in /usr/local/lib/python3.6/dist-packages (from google-auth<2,>=1.6.3->tensorboard~=2.4->tensorflow>=2.2.0->dopamine-rl) (0.2.8)\n",
            "Requirement already satisfied, skipping upgrade: zipp>=0.5 in /usr/local/lib/python3.6/dist-packages (from importlib-metadata; python_version < \"3.8\"->markdown>=2.6.8->tensorboard~=2.4->tensorflow>=2.2.0->dopamine-rl) (3.4.0)\n",
            "Requirement already satisfied, skipping upgrade: oauthlib>=3.0.0 in /usr/local/lib/python3.6/dist-packages (from requests-oauthlib>=0.7.0->google-auth-oauthlib<0.5,>=0.4.1->tensorboard~=2.4->tensorflow>=2.2.0->dopamine-rl) (3.1.0)\n",
            "Requirement already satisfied, skipping upgrade: pyasn1>=0.1.3 in /usr/local/lib/python3.6/dist-packages (from rsa<5,>=3.1.4; python_version >= \"3\"->google-auth<2,>=1.6.3->tensorboard~=2.4->tensorflow>=2.2.0->dopamine-rl) (0.4.8)\n"
          ],
          "name": "stdout"
        }
      ]
    },
    {
      "cell_type": "code",
      "metadata": {
        "colab": {
          "base_uri": "https://localhost:8080/"
        },
        "id": "IVzjoJRL8Ovi",
        "outputId": "300d87c9-cf59-4681-891b-7c4a89178964"
      },
      "source": [
        "import numpy as np\n",
        "import os\n",
        "import sys\n",
        "#from dopamine.agents.dqn import dqn_agent\n",
        "\n",
        "import dopamine\n",
        "from dopamine.discrete_domains import run_experiment\n",
        "from dopamine.colab import utils as colab_utils\n",
        "from absl import flags\n",
        "import gin.tf"
      ],
      "execution_count": 2,
      "outputs": [
        {
          "output_type": "stream",
          "text": [
            "WARNING:root:Argument blacklist is deprecated. Please use denylist.\n",
            "WARNING:root:Argument blacklist is deprecated. Please use denylist.\n",
            "WARNING:root:Argument blacklist is deprecated. Please use denylist.\n"
          ],
          "name": "stderr"
        }
      ]
    },
    {
      "cell_type": "code",
      "metadata": {
        "id": "AmRkIkeywYyL"
      },
      "source": [
        "import matplotlib\n",
        "#matplotlib.use('TKAgg')\n",
        "\n",
        "#import minatar\n",
        "#minatar.__version__"
      ],
      "execution_count": 3,
      "outputs": []
    },
    {
      "cell_type": "code",
      "metadata": {
        "id": "1bJ1WGgSGAW-"
      },
      "source": [
        "#import matplotlib\n",
        "#matplotlib.use('TkAgg')"
      ],
      "execution_count": 4,
      "outputs": []
    },
    {
      "cell_type": "code",
      "metadata": {
        "colab": {
          "base_uri": "https://localhost:8080/"
        },
        "id": "H7Skt7G2LDOJ",
        "outputId": "70db5d28-c66a-45cb-82ff-db1ee941fa09"
      },
      "source": [
        "from google.colab import drive \n",
        "drive.mount('/content/drive')\n",
        "\n",
        "path = '/content/drive/My Drive/SaveFiles/Data/Dopamine_github/'\n",
        "#LOG_PATH = os.path.join(path, 'dqn')\n",
        "LOG_PATH = os.path.join(path, 'dqn_test')"
      ],
      "execution_count": 5,
      "outputs": [
        {
          "output_type": "stream",
          "text": [
            "Drive already mounted at /content/drive; to attempt to forcibly remount, call drive.mount(\"/content/drive\", force_remount=True).\n"
          ],
          "name": "stdout"
        }
      ]
    },
    {
      "cell_type": "code",
      "metadata": {
        "colab": {
          "base_uri": "https://localhost:8080/"
        },
        "id": "KxNfCIy4MKuB",
        "outputId": "242cb489-304d-4261-863f-ce4d7fddff37"
      },
      "source": [
        "import sys\n",
        "sys.path.append(path)\n",
        "#from dqn_agent_new import *\n",
        "#from rainbow_agent_new import *\n",
        "#from quantile_agent_new import*\n",
        "from m_dqn import*"
      ],
      "execution_count": 6,
      "outputs": [
        {
          "output_type": "stream",
          "text": [
            "WARNING:tensorflow:From /usr/local/lib/python3.6/dist-packages/tensorflow/python/compat/v2_compat.py:96: disable_resource_variables (from tensorflow.python.ops.variable_scope) is deprecated and will be removed in a future version.\n",
            "Instructions for updating:\n",
            "non-resource variables are not supported in the long term\n"
          ],
          "name": "stdout"
        },
        {
          "output_type": "stream",
          "text": [
            "WARNING:tensorflow:From /usr/local/lib/python3.6/dist-packages/tensorflow/python/compat/v2_compat.py:96: disable_resource_variables (from tensorflow.python.ops.variable_scope) is deprecated and will be removed in a future version.\n",
            "Instructions for updating:\n",
            "non-resource variables are not supported in the long term\n"
          ],
          "name": "stderr"
        }
      ]
    },
    {
      "cell_type": "code",
      "metadata": {
        "colab": {
          "base_uri": "https://localhost:8080/"
        },
        "id": "5rVXXtYF8TXw",
        "outputId": "d8452d4a-a96d-4fc0-ca47-f4f9d4f535be"
      },
      "source": [
        "def create_random_dqn_agent(sess, environment, summary_writer=None):\n",
        "#def create_random_dqn_agent(sess, environment, summary_writer=None):\n",
        "  \"\"\"The Runner class will expect a function of this type to create an agent.\"\"\"\n",
        "  #return JaxDQNAgentNew(num_actions=environment.action_space.n)\n",
        "  #return JaxRainbowAgentNew(num_actions=environment.action_space.n)\n",
        "  #return JaxQuantileAgentNew(num_actions=environment.action_space.n)\n",
        "  \n",
        "  return MunchausenDQNAgent(sess,num_actions=environment.action_space.n)\n",
        "  #return MunchausenDQNAgentNew(num_actions=environment.action_space.n)\n",
        " \n",
        "#gin.parse_config_file('/content/drive/My Drive/SaveFiles/Data/Dopamine_github/dqn_cartpole.gin')\n",
        "#gin.parse_config_file('/content/drive/My Drive/SaveFiles/Data/Dopamine_github/rainbow_cartpole.gin')\n",
        "#gin.parse_config_file('/content/drive/My Drive/SaveFiles/Data/Dopamine_github/quantile_cartpoleA.gin')\n",
        "gin.parse_config_file('/content/drive/My Drive/SaveFiles/Data/Dopamine_github/cartpole.gin')\n",
        "\n",
        "random_dqn_runner = run_experiment.TrainRunner(LOG_PATH, create_random_dqn_agent)"
      ],
      "execution_count": 7,
      "outputs": [
        {
          "output_type": "stream",
          "text": [
            "----------------------------------------------------------------------------\n",
            "replay_action_one_hot: Tensor(\"action_one_hot_1:0\", shape=(128, 2), dtype=float32, device=/device:CPU:*) (128, 2)\n",
            "----------------------------------------------------------------------------\n",
            "replay_next_log_policy: Tensor(\"sub_3:0\", shape=(128, 2), dtype=float32, device=/device:CPU:*) (128, 2)\n",
            "AAAAAAAAAAAAAAAAAA\n",
            "----------------------------------------------------------------------------\n",
            "replay_next_policy: Tensor(\"Softmax:0\", shape=(128, 2), dtype=float32, device=/device:CPU:*) (128, 2)\n",
            "----------------------------------------------------------------------------\n",
            "_replay_next_target_net_outputs.q_values: Tensor(\"Target_1/basic_discrete_domain_network_1/fully_connected_2/BiasAdd:0\", shape=(128, 2), dtype=float32, device=/device:CPU:*) (128, 2)\n",
            "----------------------------------------------------------------------------\n",
            "replay_next_qt_softmax: Tensor(\"Sum_3:0\", shape=(128,), dtype=float32, device=/device:CPU:*) (128,)\n",
            "----------------------------------------------------------------------------\n",
            "replay_log_policy-XXX: Tensor(\"sub_5:0\", shape=(128, 2), dtype=float32, device=/device:CPU:*) (128, 2)\n",
            "----------------------------------------------------------------------------\n",
            "replay_action_one_hot_XXX: Tensor(\"action_one_hot_1:0\", shape=(128, 2), dtype=float32, device=/device:CPU:*) (128, 2)\n",
            "----------------------------------------------------------------------------\n",
            "tau_log_pi_a: Tensor(\"Sum_4:0\", shape=(128,), dtype=float32, device=/device:CPU:*) (128,)\n",
            "----------------------------------------------------------------------------\n",
            "tau_log_pi_a: Tensor(\"clip_by_value:0\", shape=(128,), dtype=float32, device=/device:CPU:*) (128,)\n",
            "----------------------------------------------------------------------------\n",
            "munchausen_term: Tensor(\"mul_6:0\", shape=(128,), dtype=float32, device=/device:CPU:*) (128,)\n",
            "----------------------------------------------------------------------------\n",
            "modified_bellman: Tensor(\"add_4:0\", shape=(128,), dtype=float32, device=/device:CPU:*) (128,)\n",
            "----------------------------------------------------------------------------\n",
            "WARNING:tensorflow:From /usr/local/lib/python3.6/dist-packages/tensorflow/python/training/rmsprop.py:123: calling Ones.__init__ (from tensorflow.python.ops.init_ops) with dtype is deprecated and will be removed in a future version.\n",
            "Instructions for updating:\n",
            "Call initializer instance with the dtype argument instead of passing it to the constructor\n"
          ],
          "name": "stdout"
        },
        {
          "output_type": "stream",
          "text": [
            "WARNING:tensorflow:From /usr/local/lib/python3.6/dist-packages/tensorflow/python/training/rmsprop.py:123: calling Ones.__init__ (from tensorflow.python.ops.init_ops) with dtype is deprecated and will be removed in a future version.\n",
            "Instructions for updating:\n",
            "Call initializer instance with the dtype argument instead of passing it to the constructor\n"
          ],
          "name": "stderr"
        }
      ]
    },
    {
      "cell_type": "code",
      "metadata": {
        "id": "VdnU1lV-8wY_",
        "colab": {
          "base_uri": "https://localhost:8080/"
        },
        "outputId": "4a3ba167-37d7-48b2-a055-8111ff6177d6"
      },
      "source": [
        "print('Will train agent, please be patient, may be a while...')\n",
        "random_dqn_runner.run_experiment()\n",
        "print('Done training!')"
      ],
      "execution_count": 8,
      "outputs": [
        {
          "output_type": "stream",
          "text": [
            "Will train agent, please be patient, may be a while...\n",
            "WARNING:tensorflow:From /usr/local/lib/python3.6/dist-packages/tensorflow/python/training/saver.py:970: remove_checkpoint (from tensorflow.python.training.checkpoint_management) is deprecated and will be removed in a future version.\n",
            "Instructions for updating:\n",
            "Use standard file APIs to delete files with this prefix.\n"
          ],
          "name": "stdout"
        },
        {
          "output_type": "stream",
          "text": [
            "WARNING:tensorflow:From /usr/local/lib/python3.6/dist-packages/tensorflow/python/training/saver.py:970: remove_checkpoint (from tensorflow.python.training.checkpoint_management) is deprecated and will be removed in a future version.\n",
            "Instructions for updating:\n",
            "Use standard file APIs to delete files with this prefix.\n"
          ],
          "name": "stderr"
        },
        {
          "output_type": "stream",
          "text": [
            "Done training!\n"
          ],
          "name": "stdout"
        }
      ]
    },
    {
      "cell_type": "code",
      "metadata": {
        "id": "B5yptcRUIukE",
        "colab": {
          "base_uri": "https://localhost:8080/"
        },
        "outputId": "b33932c9-ef99-4b19-d355-f185a6841f4e"
      },
      "source": [
        "data = colab_utils.read_experiment(LOG_PATH, verbose=True, summary_keys=['train_episode_returns'])\n",
        "data['agent'] = 'Breakout'\n",
        "data['run'] = 1"
      ],
      "execution_count": 9,
      "outputs": [
        {
          "output_type": "stream",
          "text": [
            "Reading statistics from: /content/drive/My Drive/SaveFiles/Data/Dopamine_github/dqn_test//logs/log_29\n"
          ],
          "name": "stdout"
        }
      ]
    },
    {
      "cell_type": "code",
      "metadata": {
        "id": "T-jcjIatI0EL",
        "colab": {
          "base_uri": "https://localhost:8080/",
          "height": 513
        },
        "outputId": "5c9aa6a2-65f8-4526-c5da-b84026a024c8"
      },
      "source": [
        "import seaborn as sns\n",
        "import matplotlib.pyplot as plt\n",
        "\n",
        "fig, ax = plt.subplots(figsize=(16,8))\n",
        "sns.lineplot(x='iteration', y='train_episode_returns',   data=data, ax=ax)\n",
        "plt.title('Cartpole')\n",
        "plt.show()"
      ],
      "execution_count": 10,
      "outputs": [
        {
          "output_type": "display_data",
          "data": {
            "image/png": "[encoded data removed]",
            "text/plain": [
              "<Figure size 1152x576 with 1 Axes>"
            ]
          },
          "metadata": {
            "tags": [],
            "needs_background": "light"
          }
        }
      ]
    }
  ]
}